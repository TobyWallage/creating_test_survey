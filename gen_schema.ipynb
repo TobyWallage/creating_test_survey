{
 "cells": [
  {
   "cell_type": "code",
   "execution_count": 9,
   "metadata": {},
   "outputs": [],
   "source": [
    "import matplotlib.pyplot as plt\n",
    "import numpy as np\n",
    "from astropy.table import Table"
   ]
  },
  {
   "cell_type": "code",
   "execution_count": 10,
   "metadata": {},
   "outputs": [
    {
     "data": {
      "text/html": [
       "<div><i>Table length=57</i>\n",
       "<table id=\"table1825967077216\" class=\"table-striped table-bordered table-condensed\">\n",
       "<thead><tr><th>id</th><th>ra</th><th>dec</th><th>x</th><th>y</th><th>major</th><th>minor</th><th>orient</th><th>offaxis</th><th>azi</th><th>srccounts</th><th>ctrate</th><th>ctrate_err</th><th>flux</th><th>sig</th><th>p(point)</th><th>sizetest</th><th>pntcon?</th><th>r1con?</th></tr></thead>\n",
       "<thead><tr><th>int64</th><th>float64</th><th>float64</th><th>float64</th><th>float64</th><th>float64</th><th>float64</th><th>float64</th><th>float64</th><th>float64</th><th>float64</th><th>float64</th><th>float64</th><th>float64</th><th>float64</th><th>float64</th><th>str7</th><th>str2</th><th>str2</th></tr></thead>\n",
       "<tr><td>1</td><td>24.9893</td><td>-54.4619</td><td>368.0</td><td>333.286</td><td>4.07232</td><td>4.07232</td><td>415.447</td><td>9.81463</td><td>206.762</td><td>26.2766</td><td>0.000545094</td><td>0.000131007</td><td>5.45094e-15</td><td>2.35408e-08</td><td>0.33</td><td>ok</td><td>ok</td><td>ok</td></tr>\n",
       "<tr><td>2</td><td>24.9053</td><td>-54.6169</td><td>407.833</td><td>204.833</td><td>3.14512</td><td>3.14512</td><td>468.853</td><td>11.5932</td><td>260.169</td><td>33.9755</td><td>0.000320393</td><td>5.6956e-05</td><td>3.20393e-15</td><td>6.1411e-11</td><td>0.82</td><td>ok</td><td>ok</td><td>ok</td></tr>\n",
       "<tr><td>3</td><td>25.4129</td><td>-54.5054</td><td>164.333</td><td>297.333</td><td>3.18446</td><td>3.18446</td><td>246.109</td><td>7.30873</td><td>37.4248</td><td>19.3258</td><td>0.000203613</td><td>4.49574e-05</td><td>2.03613e-15</td><td>1.48389e-05</td><td>0.845</td><td>ok</td><td>ok</td><td>ok</td></tr>\n",
       "<tr><td>4</td><td>25.0834</td><td>-54.7232</td><td>322.333</td><td>117.125</td><td>3.10282</td><td>3.10282</td><td>514.719</td><td>11.1754</td><td>306.035</td><td>132.793</td><td>0.00124587</td><td>9.78359e-05</td><td>1.24587e-14</td><td>1.64775e-86</td><td>0.05</td><td>ok</td><td>ok</td><td>ok</td></tr>\n",
       "<tr><td>5</td><td>25.1751</td><td>-54.7216</td><td>278.5</td><td>118.5</td><td>2.91548</td><td>2.91548</td><td>530.945</td><td>10.1317</td><td>322.26</td><td>22.5555</td><td>0.000201074</td><td>4.49091e-05</td><td>2.01074e-15</td><td>9.61887e-06</td><td>0.765</td><td>ok</td><td>ok</td><td>ok</td></tr>\n",
       "<tr><td>6</td><td>25.053</td><td>-54.7159</td><td>336.842</td><td>123.158</td><td>3.18464</td><td>3.18464</td><td>508.933</td><td>11.2866</td><td>300.248</td><td>101.805</td><td>0.000965131</td><td>8.52906e-05</td><td>9.65131e-15</td><td>1.01917e-56</td><td>0.57</td><td>ok</td><td>ok</td><td>ok</td></tr>\n",
       "<tr><td>7</td><td>25.295</td><td>-54.7108</td><td>221.158</td><td>127.474</td><td>2.89027</td><td>2.89027</td><td>555.32</td><td>9.69947</td><td>346.636</td><td>120.591</td><td>0.00120009</td><td>9.26626e-05</td><td>1.20009e-14</td><td>7.24096e-67</td><td>0.045</td><td>ok</td><td>ok</td><td>ok</td></tr>\n",
       "<tr><td>8</td><td>24.9173</td><td>-54.6738</td><td>401.889</td><td>157.778</td><td>3.12772</td><td>3.12772</td><td>484.18</td><td>12.7409</td><td>275.495</td><td>43.5258</td><td>0.000450483</td><td>6.55784e-05</td><td>4.50483e-15</td><td>3.07872e-16</td><td>0.805</td><td>ok</td><td>ok</td><td>ok</td></tr>\n",
       "<tr><td>9</td><td>25.0489</td><td>-54.6725</td><td>338.9</td><td>159.05</td><td>3.02696</td><td>3.02696</td><td>499.787</td><td>9.25233</td><td>291.102</td><td>111.21</td><td>0.000982098</td><td>8.41176e-05</td><td>9.82098e-15</td><td>1.21974e-67</td><td>0.885</td><td>ok</td><td>ok</td><td>ok</td></tr>\n",
       "<tr><td>...</td><td>...</td><td>...</td><td>...</td><td>...</td><td>...</td><td>...</td><td>...</td><td>...</td><td>...</td><td>...</td><td>...</td><td>...</td><td>...</td><td>...</td><td>...</td><td>...</td><td>...</td><td>...</td></tr>\n",
       "<tr><td>48</td><td>24.8286</td><td>-54.4775</td><td>445.25</td><td>320.0</td><td>3.09233</td><td>3.09233</td><td>431.407</td><td>14.4375</td><td>222.722</td><td>26.6081</td><td>0.000394696</td><td>8.13114e-05</td><td>3.94696e-15</td><td>1.49001e-07</td><td>0.835</td><td>ok</td><td>ok</td><td>ok</td></tr>\n",
       "<tr><td>49</td><td>25.1256</td><td>-54.6344</td><td>302.231</td><td>190.615</td><td>3.23305</td><td>3.23305</td><td>505.241</td><td>5.81466</td><td>296.556</td><td>39.6319</td><td>0.000242538</td><td>3.8808e-05</td><td>2.42538e-15</td><td>2.7234e-09</td><td>0.025</td><td>ok</td><td>ok</td><td>ok</td></tr>\n",
       "<tr><td>50</td><td>25.4122</td><td>-54.5054</td><td>164.667</td><td>297.333</td><td>3.06395</td><td>3.06395</td><td>246.032</td><td>7.2866</td><td>37.3477</td><td>20.5769</td><td>0.000217847</td><td>4.54366e-05</td><td>2.17847e-15</td><td>2.97403e-06</td><td>0.945</td><td>ok</td><td>ok</td><td>ok</td></tr>\n",
       "<tr><td>51</td><td>24.8618</td><td>-54.4214</td><td>429.517</td><td>366.5</td><td>4.02906</td><td>4.02906</td><td>417.553</td><td>14.8637</td><td>208.869</td><td>22.1392</td><td>0.0005836</td><td>0.000150366</td><td>5.836e-15</td><td>1.98627e-07</td><td>0.005</td><td>ok</td><td>ok</td><td>ok</td></tr>\n",
       "<tr><td>52</td><td>25.5582</td><td>-54.4356</td><td>94.2444</td><td>354.778</td><td>3.20578</td><td>3.20578</td><td>238.799</td><td>13.7533</td><td>30.1146</td><td>19.8277</td><td>0.000576257</td><td>0.000135896</td><td>5.76257e-15</td><td>5.78781e-09</td><td>0.14</td><td>ok</td><td>ok</td><td>ok</td></tr>\n",
       "<tr><td>53</td><td>25.1728</td><td>-54.3097</td><td>279.8</td><td>459.36</td><td>3.94128</td><td>1.98693</td><td>-172.967</td><td>14.8036</td><td>157.866</td><td>136.229</td><td>0.00302557</td><td>0.00034618</td><td>3.02557e-14</td><td>1.17392e-76</td><td>0.0</td><td>psfsize</td><td>ok</td><td>ok</td></tr>\n",
       "<tr><td>54</td><td>25.5435</td><td>-54.4004</td><td>101.2</td><td>384.0</td><td>2.7191</td><td>1.11647</td><td>-154.33</td><td>14.5677</td><td>21.932</td><td>69.1946</td><td>0.00155511</td><td>0.000241707</td><td>1.55511e-14</td><td>6.85621e-28</td><td>0.0</td><td>psfsize</td><td>ok</td><td>ok</td></tr>\n",
       "<tr><td>55</td><td>25.4918</td><td>-54.4963</td><td>126.378</td><td>304.756</td><td>8.52207</td><td>6.11645</td><td>131.191</td><td>10.0619</td><td>40.9711</td><td>190.087</td><td>0.0017949</td><td>0.000237659</td><td>1.7949e-14</td><td>8.12794e-40</td><td>0.0</td><td>ok</td><td>ok</td><td>ok</td></tr>\n",
       "<tr><td>56</td><td>25.2446</td><td>-54.6125</td><td>245.249</td><td>208.773</td><td>27.9648</td><td>22.4923</td><td>88.7631</td><td>3.55552</td><td>344.584</td><td>12309.6</td><td>0.0641298</td><td>0.000879846</td><td>6.41298e-13</td><td>0.0</td><td>0.0</td><td>ok</td><td>ok</td><td>ok</td></tr>\n",
       "<tr><td>57</td><td>25.1283</td><td>-54.5223</td><td>301.075</td><td>283.39</td><td>25.093</td><td>17.3531</td><td>-166.665</td><td>3.77357</td><td>210.217</td><td>4880.18</td><td>0.0273616</td><td>0.000630477</td><td>2.73616e-13</td><td>0.0</td><td>0.0</td><td>ok</td><td>ok</td><td>ok</td></tr>\n",
       "</table></div>"
      ],
      "text/plain": [
       "<Table length=57>\n",
       "  id     ra     dec       x       y    ... p(point) sizetest pntcon? r1con?\n",
       "int64 float64 float64  float64 float64 ... float64    str7     str2   str2 \n",
       "----- ------- -------- ------- ------- ... -------- -------- ------- ------\n",
       "    1 24.9893 -54.4619   368.0 333.286 ...     0.33       ok      ok     ok\n",
       "    2 24.9053 -54.6169 407.833 204.833 ...     0.82       ok      ok     ok\n",
       "    3 25.4129 -54.5054 164.333 297.333 ...    0.845       ok      ok     ok\n",
       "    4 25.0834 -54.7232 322.333 117.125 ...     0.05       ok      ok     ok\n",
       "    5 25.1751 -54.7216   278.5   118.5 ...    0.765       ok      ok     ok\n",
       "    6  25.053 -54.7159 336.842 123.158 ...     0.57       ok      ok     ok\n",
       "    7  25.295 -54.7108 221.158 127.474 ...    0.045       ok      ok     ok\n",
       "    8 24.9173 -54.6738 401.889 157.778 ...    0.805       ok      ok     ok\n",
       "    9 25.0489 -54.6725   338.9  159.05 ...    0.885       ok      ok     ok\n",
       "  ...     ...      ...     ...     ... ...      ...      ...     ...    ...\n",
       "   48 24.8286 -54.4775  445.25   320.0 ...    0.835       ok      ok     ok\n",
       "   49 25.1256 -54.6344 302.231 190.615 ...    0.025       ok      ok     ok\n",
       "   50 25.4122 -54.5054 164.667 297.333 ...    0.945       ok      ok     ok\n",
       "   51 24.8618 -54.4214 429.517   366.5 ...    0.005       ok      ok     ok\n",
       "   52 25.5582 -54.4356 94.2444 354.778 ...     0.14       ok      ok     ok\n",
       "   53 25.1728 -54.3097   279.8  459.36 ...      0.0  psfsize      ok     ok\n",
       "   54 25.5435 -54.4004   101.2   384.0 ...      0.0  psfsize      ok     ok\n",
       "   55 25.4918 -54.4963 126.378 304.756 ...      0.0       ok      ok     ok\n",
       "   56 25.2446 -54.6125 245.249 208.773 ...      0.0       ok      ok     ok\n",
       "   57 25.1283 -54.5223 301.075  283.39 ...      0.0       ok      ok     ok"
      ]
     },
     "execution_count": 10,
     "metadata": {},
     "output_type": "execute_result"
    }
   ],
   "source": [
    "input_python_data = Table.read(\"Python_final_source_summaries.dat\", format='ascii')\n",
    "input_python_data"
   ]
  },
  {
   "cell_type": "code",
   "execution_count": 11,
   "metadata": {},
   "outputs": [
    {
     "data": {
      "text/html": [
       "<div><i>Table length=57</i>\n",
       "<table id=\"table1825967074720\" class=\"table-striped table-bordered table-condensed\">\n",
       "<thead><tr><th>id</th><th>ra</th><th>dec</th><th>x</th><th>y</th><th>major</th><th>minor</th><th>orient</th><th>offaxis</th><th>azi</th><th>srccounts</th><th>ctrate</th><th>ctrate_err</th><th>flux</th><th>sig</th><th>p(point)</th><th>sizetest</th><th>pntcon?</th><th>r1con?</th></tr></thead>\n",
       "<thead><tr><th>int64</th><th>float64</th><th>float64</th><th>float64</th><th>float64</th><th>float64</th><th>float64</th><th>float64</th><th>float64</th><th>float64</th><th>float64</th><th>float64</th><th>float64</th><th>float64</th><th>float64</th><th>float64</th><th>str7</th><th>str2</th><th>str2</th></tr></thead>\n",
       "<tr><td>1</td><td>24.905296</td><td>-54.616888</td><td>407.833</td><td>204.833</td><td>3.14512</td><td>3.14512</td><td>468.853</td><td>11.593205</td><td>260.16858</td><td>34.452956</td><td>0.00032508288</td><td>5.77779e-05</td><td>3.2508288e-15</td><td>2.5277903e-11</td><td>0.735</td><td>ok</td><td>ok</td><td>ok</td></tr>\n",
       "<tr><td>2</td><td>25.412903</td><td>-54.505376</td><td>164.333</td><td>297.333</td><td>3.18445</td><td>3.18445</td><td>293.891</td><td>7.3087339</td><td>85.206025</td><td>19.310798</td><td>0.00020345624</td><td>4.49574e-05</td><td>2.0345624e-15</td><td>1.5115427e-05</td><td>0.79</td><td>ok</td><td>ok</td><td>ok</td></tr>\n",
       "<tr><td>3</td><td>25.083357</td><td>-54.723201</td><td>322.333</td><td>117.125</td><td>3.10282</td><td>3.10282</td><td>514.719</td><td>11.175404</td><td>306.0348</td><td>132.05783</td><td>0.0012389017</td><td>9.78036e-05</td><td>1.2389017e-14</td><td>4.3974384e-84</td><td>0.06</td><td>ok</td><td>ok</td><td>ok</td></tr>\n",
       "<tr><td>4</td><td>25.175068</td><td>-54.721609</td><td>278.5</td><td>118.5</td><td>2.91548</td><td>2.91548</td><td>530.945</td><td>10.131685</td><td>322.26022</td><td>22.356443</td><td>0.00019930328</td><td>4.49091e-05</td><td>1.9930328e-15</td><td>1.188967e-05</td><td>0.695</td><td>ok</td><td>ok</td><td>ok</td></tr>\n",
       "<tr><td>5</td><td>25.05303</td><td>-54.715873</td><td>336.842</td><td>123.158</td><td>3.18464</td><td>3.18464</td><td>508.933</td><td>11.286631</td><td>300.24826</td><td>101.94554</td><td>0.00096646563</td><td>8.55862e-05</td><td>9.6646565e-15</td><td>4.6144827e-57</td><td>0.425</td><td>ok</td><td>ok</td><td>ok</td></tr>\n",
       "<tr><td>6</td><td>25.295017</td><td>-54.710752</td><td>221.158</td><td>127.474</td><td>2.89026</td><td>2.89026</td><td>555.32</td><td>9.6994736</td><td>346.63551</td><td>120.73334</td><td>0.0011686634</td><td>9.26728e-05</td><td>1.1686634e-14</td><td>1.0042866e-65</td><td>0.045</td><td>ok</td><td>ok</td><td>ok</td></tr>\n",
       "<tr><td>7</td><td>24.917276</td><td>-54.673777</td><td>401.889</td><td>157.778</td><td>3.12771</td><td>3.12771</td><td>484.18</td><td>12.740926</td><td>275.49529</td><td>42.85682</td><td>0.0004436638</td><td>6.55829e-05</td><td>4.4366381e-15</td><td>1.5370957e-15</td><td>0.82</td><td>ok</td><td>ok</td><td>ok</td></tr>\n",
       "<tr><td>8</td><td>25.048909</td><td>-54.672498</td><td>338.9</td><td>159.05</td><td>3.02697</td><td>3.02697</td><td>499.787</td><td>9.2523276</td><td>291.10246</td><td>113.20207</td><td>0.00099716061</td><td>8.48211e-05</td><td>9.9716063e-15</td><td>1.1878446e-67</td><td>0.79</td><td>ok</td><td>ok</td><td>ok</td></tr>\n",
       "<tr><td>9</td><td>25.044598</td><td>-54.654773</td><td>341.0</td><td>173.714</td><td>2.98359</td><td>2.98359</td><td>494.417</td><td>8.5764011</td><td>285.73231</td><td>30.717417</td><td>0.00026644738</td><td>4.74966e-05</td><td>2.6644738e-15</td><td>2.9694402e-11</td><td>0.945</td><td>ok</td><td>ok</td><td>ok</td></tr>\n",
       "<tr><td>...</td><td>...</td><td>...</td><td>...</td><td>...</td><td>...</td><td>...</td><td>...</td><td>...</td><td>...</td><td>...</td><td>...</td><td>...</td><td>...</td><td>...</td><td>...</td><td>...</td><td>...</td><td>...</td></tr>\n",
       "<tr><td>48</td><td>25.125624</td><td>-54.634441</td><td>302.231</td><td>190.615</td><td>3.23303</td><td>3.23303</td><td>505.241</td><td>5.8146569</td><td>296.55648</td><td>40.159513</td><td>0.00024492059</td><td>3.89241e-05</td><td>2.449206e-15</td><td>2.1160427e-09</td><td>0.03</td><td>ok</td><td>ok</td><td>ok</td></tr>\n",
       "<tr><td>49</td><td>25.412207</td><td>-54.505377</td><td>164.667</td><td>297.333</td><td>3.06396</td><td>3.06396</td><td>293.968</td><td>7.2865993</td><td>85.283141</td><td>19.967984</td><td>0.00021159965</td><td>4.49515e-05</td><td>2.1159965e-15</td><td>6.7616093e-06</td><td>0.985</td><td>ok</td><td>ok</td><td>ok</td></tr>\n",
       "<tr><td>50</td><td>24.861771</td><td>-54.421418</td><td>429.517</td><td>366.5</td><td>4.02906</td><td>4.02906</td><td>417.553</td><td>14.863673</td><td>208.8687</td><td>22.071568</td><td>0.0005752565</td><td>0.000150366</td><td>5.7525652e-15</td><td>2.2278288e-07</td><td>0.015</td><td>ok</td><td>ok</td><td>ok</td></tr>\n",
       "<tr><td>51</td><td>25.558187</td><td>-54.435646</td><td>94.2444</td><td>354.778</td><td>3.20579</td><td>3.20579</td><td>301.201</td><td>13.753268</td><td>92.51627</td><td>19.99283</td><td>0.00057448301</td><td>0.000135914</td><td>5.7448302e-15</td><td>3.6305318e-09</td><td>0.125</td><td>ok</td><td>ok</td><td>ok</td></tr>\n",
       "<tr><td>52</td><td>24.970649</td><td>-54.484728</td><td>376.905</td><td>314.333</td><td>3.62232</td><td>1.93169</td><td>-237.515</td><td>9.6835619</td><td>215.66063</td><td>142.63056</td><td>0.00097141008</td><td>0.000115</td><td>9.714101e-15</td><td>4.4343337e-50</td><td>0.0</td><td>psfsize</td><td>ok</td><td>ok</td></tr>\n",
       "<tr><td>53</td><td>25.172837</td><td>-54.309737</td><td>279.8</td><td>459.36</td><td>3.94128</td><td>1.98693</td><td>7.03346</td><td>14.803582</td><td>157.86614</td><td>136.20866</td><td>0.0030250125</td><td>0.000346772</td><td>3.0250125e-14</td><td>2.6978921e-76</td><td>0.0</td><td>psfsize</td><td>ok</td><td>ok</td></tr>\n",
       "<tr><td>54</td><td>25.543459</td><td>-54.400377</td><td>101.2</td><td>384.0</td><td>2.7191</td><td>1.11647</td><td>25.6701</td><td>14.567749</td><td>100.69882</td><td>67.984053</td><td>0.0015281423</td><td>0.000241759</td><td>1.5281424e-14</td><td>9.7437433e-28</td><td>0.0</td><td>psfsize</td><td>ok</td><td>ok</td></tr>\n",
       "<tr><td>55</td><td>25.49183</td><td>-54.496256</td><td>126.378</td><td>304.756</td><td>8.52207</td><td>6.11645</td><td>-228.809</td><td>10.061923</td><td>81.659771</td><td>186.91781</td><td>0.0017633663</td><td>0.000235646</td><td>1.7633663e-14</td><td>1.6438113e-39</td><td>0.0</td><td>ok</td><td>ok</td><td>ok</td></tr>\n",
       "<tr><td>56</td><td>25.244563</td><td>-54.61253</td><td>245.253</td><td>208.778</td><td>27.9808</td><td>22.6428</td><td>87.6159</td><td>3.5551334</td><td>344.58173</td><td>12433.138</td><td>0.064806372</td><td>0.000883528</td><td>6.4806374e-13</td><td>0.0</td><td>0.0</td><td>ok</td><td>ok</td><td>ok</td></tr>\n",
       "<tr><td>57</td><td>25.128305</td><td>-54.522403</td><td>301.069</td><td>283.338</td><td>25.1847</td><td>17.3443</td><td>12.5174</td><td>3.7712932</td><td>210.26258</td><td>4826.7822</td><td>0.026987197</td><td>0.000627529</td><td>2.6987198e-13</td><td>0.0</td><td>0.0</td><td>ok</td><td>ok</td><td>ok</td></tr>\n",
       "</table></div>"
      ],
      "text/plain": [
       "<Table length=57>\n",
       "  id      ra       dec        x       y    ... p(point) sizetest pntcon? r1con?\n",
       "int64  float64   float64   float64 float64 ... float64    str7     str2   str2 \n",
       "----- --------- ---------- ------- ------- ... -------- -------- ------- ------\n",
       "    1 24.905296 -54.616888 407.833 204.833 ...    0.735       ok      ok     ok\n",
       "    2 25.412903 -54.505376 164.333 297.333 ...     0.79       ok      ok     ok\n",
       "    3 25.083357 -54.723201 322.333 117.125 ...     0.06       ok      ok     ok\n",
       "    4 25.175068 -54.721609   278.5   118.5 ...    0.695       ok      ok     ok\n",
       "    5  25.05303 -54.715873 336.842 123.158 ...    0.425       ok      ok     ok\n",
       "    6 25.295017 -54.710752 221.158 127.474 ...    0.045       ok      ok     ok\n",
       "    7 24.917276 -54.673777 401.889 157.778 ...     0.82       ok      ok     ok\n",
       "    8 25.048909 -54.672498   338.9  159.05 ...     0.79       ok      ok     ok\n",
       "    9 25.044598 -54.654773   341.0 173.714 ...    0.945       ok      ok     ok\n",
       "  ...       ...        ...     ...     ... ...      ...      ...     ...    ...\n",
       "   48 25.125624 -54.634441 302.231 190.615 ...     0.03       ok      ok     ok\n",
       "   49 25.412207 -54.505377 164.667 297.333 ...    0.985       ok      ok     ok\n",
       "   50 24.861771 -54.421418 429.517   366.5 ...    0.015       ok      ok     ok\n",
       "   51 25.558187 -54.435646 94.2444 354.778 ...    0.125       ok      ok     ok\n",
       "   52 24.970649 -54.484728 376.905 314.333 ...      0.0  psfsize      ok     ok\n",
       "   53 25.172837 -54.309737   279.8  459.36 ...      0.0  psfsize      ok     ok\n",
       "   54 25.543459 -54.400377   101.2   384.0 ...      0.0  psfsize      ok     ok\n",
       "   55  25.49183 -54.496256 126.378 304.756 ...      0.0       ok      ok     ok\n",
       "   56 25.244563  -54.61253 245.253 208.778 ...      0.0       ok      ok     ok\n",
       "   57 25.128305 -54.522403 301.069 283.338 ...      0.0       ok      ok     ok"
      ]
     },
     "execution_count": 11,
     "metadata": {},
     "output_type": "execute_result"
    }
   ],
   "source": [
    "input_IDL_data = Table.read(\"IDL_final_source_summaries.dat\", format='ascii')\n",
    "input_IDL_data"
   ]
  },
  {
   "cell_type": "code",
   "execution_count": 12,
   "metadata": {},
   "outputs": [],
   "source": [
    "def calc_closest_id(input_xy_pos: tuple[float, float], test_xy_table: Table) -> int:\n",
    "    x, y = input_xy_pos\n",
    "    test_x, test_y = test_xy_table['x'].data, test_xy_table['y'].data\n",
    "    sep = ((test_x-x)**2) + ((test_y-y)**2)\n",
    "    return np.argmin(sep)"
   ]
  },
  {
   "cell_type": "code",
   "execution_count": 13,
   "metadata": {},
   "outputs": [
    {
     "name": "stdout",
     "output_type": "stream",
     "text": [
      "[36, 0, 1, 2, 3, 4, 5, 6, 7, 8, 9, 10, 11, 12, 13, 14, 15, 16, 17, 18, 19, 20, 21, 22, 23, 24, 25, 26, 27, 28, 29, 30, 51, 31, 32, 33, 34, 35, 37, 38, 39, 40, 41, 42, 43, 44, 45, 46, 47, 48, 49, 50, 52, 53, 54, 55, 56]\n"
     ]
    }
   ],
   "source": [
    "# print(calc_closest_id((input_python_data[0]['x'],input_python_data[0]['y']), input_IDL_data[:]))\n",
    "matched_ids = []\n",
    "for row in input_python_data:\n",
    "    matched_ids.append(calc_closest_id((row['x'], row['y']), input_IDL_data))\n",
    "print(matched_ids)"
   ]
  },
  {
   "cell_type": "code",
   "execution_count": 14,
   "metadata": {},
   "outputs": [],
   "source": [
    "input_python_data['matched_id'] = matched_ids"
   ]
  },
  {
   "cell_type": "code",
   "execution_count": 15,
   "metadata": {},
   "outputs": [],
   "source": [
    "output_schema = Table()\n",
    "output_schema['xcs_id'] = input_python_data['id']\n",
    "output_schema['PY_srccounts'] = input_python_data['srccounts']\n",
    "output_schema['PY_ctrate'] = input_python_data['ctrate']\n",
    "output_schema['PY_ctrate_err'] = input_python_data['ctrate_err']\n",
    "output_schema['PY_flux'] = input_python_data['flux']\n",
    "output_schema['PY_ppoint'] = input_python_data['p(point)']\n",
    "# output_schema"
   ]
  },
  {
   "cell_type": "code",
   "execution_count": 16,
   "metadata": {},
   "outputs": [
    {
     "data": {
      "text/html": [
       "<div><i>Table length=57</i>\n",
       "<table id=\"table1825967071312\" class=\"table-striped table-bordered table-condensed\">\n",
       "<thead><tr><th>xcs_id</th><th>PY_srccounts</th><th>PY_ctrate</th><th>PY_ctrate_err</th><th>PY_flux</th><th>PY_ppoint</th><th>IDL_srccounts</th><th>IDL_ctrate</th><th>IDL_ctrate_err</th><th>IDL_flux</th><th>IDL_ppoint</th></tr></thead>\n",
       "<thead><tr><th>int64</th><th>float64</th><th>float64</th><th>float64</th><th>float64</th><th>float64</th><th>float64</th><th>float64</th><th>float64</th><th>float64</th><th>float64</th></tr></thead>\n",
       "<tr><td>1</td><td>26.2766</td><td>0.000545094</td><td>0.000131007</td><td>5.45094e-15</td><td>0.33</td><td>27.27021</td><td>0.00057679126</td><td>0.000131122</td><td>5.7679127e-15</td><td>0.12</td></tr>\n",
       "<tr><td>2</td><td>33.9755</td><td>0.000320393</td><td>5.6956e-05</td><td>3.20393e-15</td><td>0.82</td><td>34.452956</td><td>0.00032508288</td><td>5.77779e-05</td><td>3.2508288e-15</td><td>0.735</td></tr>\n",
       "<tr><td>3</td><td>19.3258</td><td>0.000203613</td><td>4.49574e-05</td><td>2.03613e-15</td><td>0.845</td><td>19.310798</td><td>0.00020345624</td><td>4.49574e-05</td><td>2.0345624e-15</td><td>0.79</td></tr>\n",
       "<tr><td>4</td><td>132.793</td><td>0.00124587</td><td>9.78359e-05</td><td>1.24587e-14</td><td>0.05</td><td>132.05783</td><td>0.0012389017</td><td>9.78036e-05</td><td>1.2389017e-14</td><td>0.06</td></tr>\n",
       "<tr><td>5</td><td>22.5555</td><td>0.000201074</td><td>4.49091e-05</td><td>2.01074e-15</td><td>0.765</td><td>22.356443</td><td>0.00019930328</td><td>4.49091e-05</td><td>1.9930328e-15</td><td>0.695</td></tr>\n",
       "<tr><td>6</td><td>101.805</td><td>0.000965131</td><td>8.52906e-05</td><td>9.65131e-15</td><td>0.57</td><td>101.94554</td><td>0.00096646563</td><td>8.55862e-05</td><td>9.6646565e-15</td><td>0.425</td></tr>\n",
       "<tr><td>7</td><td>120.591</td><td>0.00120009</td><td>9.26626e-05</td><td>1.20009e-14</td><td>0.045</td><td>120.73334</td><td>0.0011686634</td><td>9.26728e-05</td><td>1.1686634e-14</td><td>0.045</td></tr>\n",
       "<tr><td>8</td><td>43.5258</td><td>0.000450483</td><td>6.55784e-05</td><td>4.50483e-15</td><td>0.805</td><td>42.85682</td><td>0.0004436638</td><td>6.55829e-05</td><td>4.4366381e-15</td><td>0.82</td></tr>\n",
       "<tr><td>9</td><td>111.21</td><td>0.000982098</td><td>8.41176e-05</td><td>9.82098e-15</td><td>0.885</td><td>113.20207</td><td>0.00099716061</td><td>8.48211e-05</td><td>9.9716063e-15</td><td>0.79</td></tr>\n",
       "<tr><td>...</td><td>...</td><td>...</td><td>...</td><td>...</td><td>...</td><td>...</td><td>...</td><td>...</td><td>...</td><td>...</td></tr>\n",
       "<tr><td>48</td><td>26.6081</td><td>0.000394696</td><td>8.13114e-05</td><td>3.94696e-15</td><td>0.835</td><td>26.856783</td><td>0.00038396697</td><td>8.16174e-05</td><td>3.8396698e-15</td><td>0.975</td></tr>\n",
       "<tr><td>49</td><td>39.6319</td><td>0.000242538</td><td>3.8808e-05</td><td>2.42538e-15</td><td>0.025</td><td>40.159513</td><td>0.00024492059</td><td>3.89241e-05</td><td>2.449206e-15</td><td>0.03</td></tr>\n",
       "<tr><td>50</td><td>20.5769</td><td>0.000217847</td><td>4.54366e-05</td><td>2.17847e-15</td><td>0.945</td><td>19.967984</td><td>0.00021159965</td><td>4.49515e-05</td><td>2.1159965e-15</td><td>0.985</td></tr>\n",
       "<tr><td>51</td><td>22.1392</td><td>0.0005836</td><td>0.000150366</td><td>5.836e-15</td><td>0.005</td><td>22.071568</td><td>0.0005752565</td><td>0.000150366</td><td>5.7525652e-15</td><td>0.015</td></tr>\n",
       "<tr><td>52</td><td>19.8277</td><td>0.000576257</td><td>0.000135896</td><td>5.76257e-15</td><td>0.14</td><td>19.99283</td><td>0.00057448301</td><td>0.000135914</td><td>5.7448302e-15</td><td>0.125</td></tr>\n",
       "<tr><td>53</td><td>136.229</td><td>0.00302557</td><td>0.00034618</td><td>3.02557e-14</td><td>0.0</td><td>136.20866</td><td>0.0030250125</td><td>0.000346772</td><td>3.0250125e-14</td><td>0.0</td></tr>\n",
       "<tr><td>54</td><td>69.1946</td><td>0.00155511</td><td>0.000241707</td><td>1.55511e-14</td><td>0.0</td><td>67.984053</td><td>0.0015281423</td><td>0.000241759</td><td>1.5281424e-14</td><td>0.0</td></tr>\n",
       "<tr><td>55</td><td>190.087</td><td>0.0017949</td><td>0.000237659</td><td>1.7949e-14</td><td>0.0</td><td>186.91781</td><td>0.0017633663</td><td>0.000235646</td><td>1.7633663e-14</td><td>0.0</td></tr>\n",
       "<tr><td>56</td><td>12309.6</td><td>0.0641298</td><td>0.000879846</td><td>6.41298e-13</td><td>0.0</td><td>12433.138</td><td>0.064806372</td><td>0.000883528</td><td>6.4806374e-13</td><td>0.0</td></tr>\n",
       "<tr><td>57</td><td>4880.18</td><td>0.0273616</td><td>0.000630477</td><td>2.73616e-13</td><td>0.0</td><td>4826.7822</td><td>0.026987197</td><td>0.000627529</td><td>2.6987198e-13</td><td>0.0</td></tr>\n",
       "</table></div>"
      ],
      "text/plain": [
       "<Table length=57>\n",
       "xcs_id PY_srccounts  PY_ctrate  ... IDL_ctrate_err    IDL_flux   IDL_ppoint\n",
       "int64    float64      float64   ...    float64        float64     float64  \n",
       "------ ------------ ----------- ... -------------- ------------- ----------\n",
       "     1      26.2766 0.000545094 ...    0.000131122 5.7679127e-15       0.12\n",
       "     2      33.9755 0.000320393 ...    5.77779e-05 3.2508288e-15      0.735\n",
       "     3      19.3258 0.000203613 ...    4.49574e-05 2.0345624e-15       0.79\n",
       "     4      132.793  0.00124587 ...    9.78036e-05 1.2389017e-14       0.06\n",
       "     5      22.5555 0.000201074 ...    4.49091e-05 1.9930328e-15      0.695\n",
       "     6      101.805 0.000965131 ...    8.55862e-05 9.6646565e-15      0.425\n",
       "     7      120.591  0.00120009 ...    9.26728e-05 1.1686634e-14      0.045\n",
       "     8      43.5258 0.000450483 ...    6.55829e-05 4.4366381e-15       0.82\n",
       "     9       111.21 0.000982098 ...    8.48211e-05 9.9716063e-15       0.79\n",
       "   ...          ...         ... ...            ...           ...        ...\n",
       "    48      26.6081 0.000394696 ...    8.16174e-05 3.8396698e-15      0.975\n",
       "    49      39.6319 0.000242538 ...    3.89241e-05  2.449206e-15       0.03\n",
       "    50      20.5769 0.000217847 ...    4.49515e-05 2.1159965e-15      0.985\n",
       "    51      22.1392   0.0005836 ...    0.000150366 5.7525652e-15      0.015\n",
       "    52      19.8277 0.000576257 ...    0.000135914 5.7448302e-15      0.125\n",
       "    53      136.229  0.00302557 ...    0.000346772 3.0250125e-14        0.0\n",
       "    54      69.1946  0.00155511 ...    0.000241759 1.5281424e-14        0.0\n",
       "    55      190.087   0.0017949 ...    0.000235646 1.7633663e-14        0.0\n",
       "    56      12309.6   0.0641298 ...    0.000883528 6.4806374e-13        0.0\n",
       "    57      4880.18   0.0273616 ...    0.000627529 2.6987198e-13        0.0"
      ]
     },
     "execution_count": 16,
     "metadata": {},
     "output_type": "execute_result"
    }
   ],
   "source": [
    "sorted_IDL_table = input_IDL_data[input_python_data['matched_id']]\n",
    "output_schema['IDL_srccounts'] = sorted_IDL_table['srccounts']\n",
    "output_schema['IDL_ctrate'] = sorted_IDL_table['ctrate']\n",
    "output_schema['IDL_ctrate_err'] = sorted_IDL_table['ctrate_err']\n",
    "output_schema['IDL_flux'] = sorted_IDL_table['flux']\n",
    "output_schema['IDL_ppoint'] = sorted_IDL_table['p(point)']\n",
    "output_schema"
   ]
  },
  {
   "cell_type": "code",
   "execution_count": 17,
   "metadata": {},
   "outputs": [],
   "source": [
    "output_schema.write('XAPA_schema.csv')"
   ]
  }
 ],
 "metadata": {
  "kernelspec": {
   "display_name": "XAPA_env",
   "language": "python",
   "name": "python3"
  },
  "language_info": {
   "codemirror_mode": {
    "name": "ipython",
    "version": 3
   },
   "file_extension": ".py",
   "mimetype": "text/x-python",
   "name": "python",
   "nbconvert_exporter": "python",
   "pygments_lexer": "ipython3",
   "version": "3.10.14"
  }
 },
 "nbformat": 4,
 "nbformat_minor": 2
}
